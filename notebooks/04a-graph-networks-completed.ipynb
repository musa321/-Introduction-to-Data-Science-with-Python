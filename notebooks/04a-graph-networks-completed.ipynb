{
  "cells": [
    {
      "cell_type": "markdown",
      "metadata": {
        "id": "view-in-github",
        "colab_type": "text"
      },
      "source": [
        "<a href=\"https://colab.research.google.com/github/musa321/-Introduction-to-Data-Science-with-Python/blob/main/notebooks/04a-graph-networks-completed.ipynb\" target=\"_parent\"><img src=\"https://colab.research.google.com/assets/colab-badge.svg\" alt=\"Open In Colab\"/></a>"
      ]
    },
    {
      "cell_type": "markdown",
      "id": "31d09edf-3aa7-4fc3-aa70-f16d432fa19b",
      "metadata": {
        "id": "31d09edf-3aa7-4fc3-aa70-f16d432fa19b"
      },
      "source": [
        "# Convolutional Graph Networks\n",
        "\n",
        "In this notebook, we will construct a convolutional graph neural network and use it predict the elastic properties of materials. We implement the [CGCNN model](https://github.com/txie-93/cgcnn) from scratch using pytorch.\n",
        "\n",
        "The notebook is split into three sections:\n",
        "1. Data loading and analysis\n",
        "2. Model construction\n",
        "3. Model training and evaluation\n",
        "\n",
        "The notebook depends on:\n",
        "- torch\n",
        "- ase\n",
        "- torch-scatter\n",
        "\n",
        "Alex Ganose, *Imperial College London* (2023)"
      ]
    },
    {
      "cell_type": "markdown",
      "id": "b66206f9-c027-4885-b8ea-633c899f43fa",
      "metadata": {
        "id": "b66206f9-c027-4885-b8ea-633c899f43fa"
      },
      "source": [
        "## Dependencies\n",
        "\n",
        "First, install the required dependencies."
      ]
    },
    {
      "cell_type": "code",
      "execution_count": 6,
      "id": "9ec18bfb-ad0f-4892-b45a-441a6eed28c3",
      "metadata": {
        "colab": {
          "base_uri": "https://localhost:8080/"
        },
        "id": "9ec18bfb-ad0f-4892-b45a-441a6eed28c3",
        "outputId": "7f02c69e-9716-4eba-f41d-56562b0ed185"
      },
      "outputs": [
        {
          "output_type": "stream",
          "name": "stdout",
          "text": [
            "Collecting torch_scatter\n",
            "  Using cached torch_scatter-2.1.2.tar.gz (108 kB)\n",
            "  Preparing metadata (setup.py) ... \u001b[?25l\u001b[?25hdone\n",
            "Building wheels for collected packages: torch_scatter\n",
            "  Building wheel for torch_scatter (setup.py) ... \u001b[?25l\u001b[?25hdone\n",
            "  Created wheel for torch_scatter: filename=torch_scatter-2.1.2-cp310-cp310-linux_x86_64.whl size=3662075 sha256=6b9b15c3bf9084759a70816281273eacec8d425683d78ce45eb8506a6ce698cc\n",
            "  Stored in directory: /root/.cache/pip/wheels/92/f1/2b/3b46d54b134259f58c8363568569053248040859b1a145b3ce\n",
            "Successfully built torch_scatter\n",
            "Installing collected packages: torch_scatter\n",
            "Successfully installed torch_scatter-2.1.2\n",
            "Requirement already satisfied: ase in /usr/local/lib/python3.10/dist-packages (3.24.0)\n",
            "Requirement already satisfied: numpy>=1.19.5 in /usr/local/lib/python3.10/dist-packages (from ase) (1.26.4)\n",
            "Requirement already satisfied: scipy>=1.6.0 in /usr/local/lib/python3.10/dist-packages (from ase) (1.13.1)\n",
            "Requirement already satisfied: matplotlib>=3.3.4 in /usr/local/lib/python3.10/dist-packages (from ase) (3.8.0)\n",
            "Requirement already satisfied: contourpy>=1.0.1 in /usr/local/lib/python3.10/dist-packages (from matplotlib>=3.3.4->ase) (1.3.1)\n",
            "Requirement already satisfied: cycler>=0.10 in /usr/local/lib/python3.10/dist-packages (from matplotlib>=3.3.4->ase) (0.12.1)\n",
            "Requirement already satisfied: fonttools>=4.22.0 in /usr/local/lib/python3.10/dist-packages (from matplotlib>=3.3.4->ase) (4.55.3)\n",
            "Requirement already satisfied: kiwisolver>=1.0.1 in /usr/local/lib/python3.10/dist-packages (from matplotlib>=3.3.4->ase) (1.4.7)\n",
            "Requirement already satisfied: packaging>=20.0 in /usr/local/lib/python3.10/dist-packages (from matplotlib>=3.3.4->ase) (24.2)\n",
            "Requirement already satisfied: pillow>=6.2.0 in /usr/local/lib/python3.10/dist-packages (from matplotlib>=3.3.4->ase) (11.0.0)\n",
            "Requirement already satisfied: pyparsing>=2.3.1 in /usr/local/lib/python3.10/dist-packages (from matplotlib>=3.3.4->ase) (3.2.0)\n",
            "Requirement already satisfied: python-dateutil>=2.7 in /usr/local/lib/python3.10/dist-packages (from matplotlib>=3.3.4->ase) (2.8.2)\n",
            "Requirement already satisfied: six>=1.5 in /usr/local/lib/python3.10/dist-packages (from python-dateutil>=2.7->matplotlib>=3.3.4->ase) (1.17.0)\n"
          ]
        }
      ],
      "source": [
        "! pip install torch_scatter\n",
        "! pip install ase\n"
      ]
    },
    {
      "cell_type": "code",
      "execution_count": 10,
      "id": "p9JtOKud3kau",
      "metadata": {
        "colab": {
          "base_uri": "https://localhost:8080/"
        },
        "id": "p9JtOKud3kau",
        "outputId": "959a6a67-baca-4b21-c1f8-f54fa7820921"
      },
      "outputs": [
        {
          "output_type": "stream",
          "name": "stdout",
          "text": [
            "--2025-01-07 11:42:32--  https://raw.githubusercontent.com/mdi-group/iisc-ml-school/refs/heads/main/notebooks/utils.py\n",
            "Resolving raw.githubusercontent.com (raw.githubusercontent.com)... 185.199.109.133, 185.199.108.133, 185.199.110.133, ...\n",
            "Connecting to raw.githubusercontent.com (raw.githubusercontent.com)|185.199.109.133|:443... connected.\n",
            "HTTP request sent, awaiting response... 200 OK\n",
            "Length: 6470 (6.3K) [text/plain]\n",
            "Saving to: ‘utils.py.2’\n",
            "\n",
            "\rutils.py.2            0%[                    ]       0  --.-KB/s               \rutils.py.2          100%[===================>]   6.32K  --.-KB/s    in 0s      \n",
            "\n",
            "2025-01-07 11:42:32 (90.2 MB/s) - ‘utils.py.2’ saved [6470/6470]\n",
            "\n",
            "--2025-01-07 11:42:32--  https://raw.githubusercontent.com/mdi-group/iisc-ml-school/refs/heads/main/notebooks/bulk-modulus-dataset.jsonhttps://raw.githubusercontent.com/mdi-group/iisc-ml-school/refs/heads/main/notebooks/utils.py\n",
            "Resolving raw.githubusercontent.com (raw.githubusercontent.com)... 185.199.108.133, 185.199.109.133, 185.199.110.133, ...\n",
            "Connecting to raw.githubusercontent.com (raw.githubusercontent.com)|185.199.108.133|:443... connected.\n",
            "HTTP request sent, awaiting response... 301 Moved Permanently\n",
            "Location: /mdi-group/iisc-ml-school/refs/heads/main/notebooks/bulk-modulus-dataset.jsonhttps:/raw.githubusercontent.com/mdi-group/iisc-ml-school/refs/heads/main/notebooks/utils.py [following]\n",
            "--2025-01-07 11:42:32--  https://raw.githubusercontent.com/mdi-group/iisc-ml-school/refs/heads/main/notebooks/bulk-modulus-dataset.jsonhttps:/raw.githubusercontent.com/mdi-group/iisc-ml-school/refs/heads/main/notebooks/utils.py\n",
            "Reusing existing connection to raw.githubusercontent.com:443.\n",
            "HTTP request sent, awaiting response... 404 Not Found\n",
            "2025-01-07 11:42:32 ERROR 404: Not Found.\n",
            "\n"
          ]
        }
      ],
      "source": [
        "!wget https://raw.githubusercontent.com/mdi-group/iisc-ml-school/refs/heads/main/notebooks/utils.py\n",
        "!wget https://raw.githubusercontent.com/mdi-group/iisc-ml-school/refs/heads/main/notebooks/bulk-modulus-dataset.jsonhttps://raw.githubusercontent.com/mdi-group/iisc-ml-school/refs/heads/main/notebooks/utils.py"
      ]
    },
    {
      "cell_type": "markdown",
      "id": "83ed1d2f-d8e9-4a96-bf23-e5686845448e",
      "metadata": {
        "id": "83ed1d2f-d8e9-4a96-bf23-e5686845448e"
      },
      "source": [
        "Now, import all the functions and modules necessary to run the notebook."
      ]
    },
    {
      "cell_type": "code",
      "execution_count": 11,
      "id": "dcac8879-32ea-4112-934a-3735e73ee887",
      "metadata": {
        "id": "dcac8879-32ea-4112-934a-3735e73ee887"
      },
      "outputs": [],
      "source": [
        "import random\n",
        "import time\n",
        "\n",
        "import matplotlib.pyplot as plt\n",
        "import numpy as np\n",
        "import torch\n",
        "import torch.nn as nn\n",
        "import torch.optim as optim\n",
        "import torch_scatter\n",
        "from torch.utils.data import DataLoader, random_split\n",
        "\n",
        "from utils import MaterialsDataset, collate_fn, plot_sample"
      ]
    },
    {
      "cell_type": "markdown",
      "id": "7d199487-12f5-44e5-b452-6b2ac4b3601a",
      "metadata": {
        "id": "7d199487-12f5-44e5-b452-6b2ac4b3601a"
      },
      "source": [
        "## Ensure reproducibility\n",
        "\n",
        "We need to set a random seed to ensure consistent results."
      ]
    },
    {
      "cell_type": "code",
      "execution_count": 12,
      "id": "61f5103e-a210-4588-b0d5-54f255c5eb3e",
      "metadata": {
        "id": "61f5103e-a210-4588-b0d5-54f255c5eb3e"
      },
      "outputs": [],
      "source": [
        "SEED = 1234\n",
        "\n",
        "random.seed(SEED)\n",
        "np.random.seed(SEED)\n",
        "torch.manual_seed(SEED)\n",
        "torch.cuda.manual_seed(SEED)\n",
        "torch.backends.cudnn.deterministic = True"
      ]
    },
    {
      "cell_type": "markdown",
      "id": "38318f33-f64b-46c2-8c5a-637bff568732",
      "metadata": {
        "id": "38318f33-f64b-46c2-8c5a-637bff568732"
      },
      "source": [
        "## Load the dataset\n",
        "\n",
        "We will be using the [matbench](http://matbench.materialsproject.org) `log_gvrh` dataset which contains 10,987 VRH-average shear moduli calculated using DFT.\n",
        "The dataset has been preprocessed by taking the base 10 logarithm as the data spans several order of magnitude.\n",
        "\n",
        "The original dataset can be obtained using the [`matminer`](https://hackingmaterials.lbl.gov/matminer/) package, however for this notebook, we have included a version of the dataset with some adjustments to the data structures."
      ]
    },
    {
      "cell_type": "code",
      "execution_count": 13,
      "id": "5f5404ce-7c4b-4933-806f-13a9c470859a",
      "metadata": {
        "id": "5f5404ce-7c4b-4933-806f-13a9c470859a"
      },
      "outputs": [],
      "source": [
        "dataset = MaterialsDataset(\n",
        "    \"bulk-modulus-dataset.json\",\n",
        "    cutoff=4,  # cutoff radius for finding neighbours\n",
        "    num_gaussians=40,  # number of gaussians in edge embedding\n",
        ")"
      ]
    },
    {
      "cell_type": "markdown",
      "id": "937051c7-7724-4fc9-9662-9734e46337f9",
      "metadata": {
        "id": "937051c7-7724-4fc9-9662-9734e46337f9"
      },
      "source": [
        "## Take a look at the data\n",
        "\n",
        "It's always a good idea to look a bit at the data. First, let's plot a histogram of the target values."
      ]
    },
    {
      "cell_type": "code",
      "execution_count": 14,
      "id": "09bc47f6-fac6-4feb-99bb-36646e97a574",
      "metadata": {
        "colab": {
          "base_uri": "https://localhost:8080/",
          "height": 471
        },
        "id": "09bc47f6-fac6-4feb-99bb-36646e97a574",
        "outputId": "bd335e0f-3c1e-4466-b4ad-708cd0b6a06c"
      },
      "outputs": [
        {
          "output_type": "execute_result",
          "data": {
            "text/plain": [
              "[Text(0.5, 0, 'log10(G$_\\\\mathrm{VRH}$)'), Text(0, 0.5, 'Number of examples')]"
            ]
          },
          "metadata": {},
          "execution_count": 14
        },
        {
          "output_type": "display_data",
          "data": {
            "text/plain": [
              "<Figure size 640x480 with 1 Axes>"
            ],
            "image/png": "[encoded data removed]"
          },
          "metadata": {}
        }
      ],
      "source": [
        "values = [x.target[0] for x in dataset]\n",
        "\n",
        "fig, ax = plt.subplots()\n",
        "ax.hist(values, bins=50)\n",
        "ax.set(xlabel=\"log10(G$_\\mathrm{VRH}$)\", ylabel=\"Number of examples\")"
      ]
    },
    {
      "cell_type": "markdown",
      "id": "01df972d-ef43-4043-bc80-4fef4f37c81d",
      "metadata": {
        "id": "01df972d-ef43-4043-bc80-4fef4f37c81d"
      },
      "source": [
        "Now let's look at the structure of the data. Each sample has the following information:\n",
        "\n",
        "- `node_feat`: The node features as a ($N$, num_node_features) tensor.\n",
        "- `edge_feat`: The edge features as a ($M$, num_edge_features) tensor.\n",
        "- `edge_src` : The index of the central node for each edge.\n",
        "- `edge_dst` : The index of the destination node for each edge.\n",
        "- `target` : The target property to learn.\n",
        "- `atoms`: An ase atoms object, representing the structure.\n",
        "\n",
        "Here, $N$ and $M$ are the number of nodes and edges in the structure, respectively.\n",
        "\n",
        "Let's have a look at the node features for the first material in the dataset."
      ]
    },
    {
      "cell_type": "code",
      "execution_count": 15,
      "id": "afa6f34b-5537-450d-8e97-93ddb459b8ea",
      "metadata": {
        "colab": {
          "base_uri": "https://localhost:8080/"
        },
        "id": "afa6f34b-5537-450d-8e97-93ddb459b8ea",
        "outputId": "9560649b-a6ef-4ca6-b6d6-0601c5780b40"
      },
      "outputs": [
        {
          "output_type": "execute_result",
          "data": {
            "text/plain": [
              "torch.Size([5, 119])"
            ]
          },
          "metadata": {},
          "execution_count": 15
        }
      ],
      "source": [
        "sample = dataset[0]\n",
        "sample.node_feat.shape"
      ]
    },
    {
      "cell_type": "markdown",
      "id": "a8d536d6-ed92-47b8-b372-780e62dc2468",
      "metadata": {
        "id": "a8d536d6-ed92-47b8-b372-780e62dc2468"
      },
      "source": [
        "This tells us there are 5 atoms in the structure, and each node has 119 features. The initial node features are just a one-hot encoding of the atom type. If we look at the first atom, we can see it has a `1` at the 19th index in the tensor and zeros elsewhere, indicating that this is the 20th element in the periodic table, i.e., calcium."
      ]
    },
    {
      "cell_type": "code",
      "execution_count": 16,
      "id": "b926f40e-a198-42c6-8ae2-89d574c9a4b0",
      "metadata": {
        "colab": {
          "base_uri": "https://localhost:8080/"
        },
        "id": "b926f40e-a198-42c6-8ae2-89d574c9a4b0",
        "outputId": "9b50006f-0ff1-47c9-e394-64ea38c21bcd"
      },
      "outputs": [
        {
          "output_type": "stream",
          "name": "stdout",
          "text": [
            "tensor([0., 0., 0., 0., 0., 0., 0., 0., 0., 0., 0., 0., 0., 0., 0., 0., 0., 0.,\n",
            "        0., 1., 0., 0., 0., 0., 0., 0., 0., 0., 0., 0., 0., 0., 0., 0., 0., 0.,\n",
            "        0., 0., 0., 0., 0., 0., 0., 0., 0., 0., 0., 0., 0., 0., 0., 0., 0., 0.,\n",
            "        0., 0., 0., 0., 0., 0., 0., 0., 0., 0., 0., 0., 0., 0., 0., 0., 0., 0.,\n",
            "        0., 0., 0., 0., 0., 0., 0., 0., 0., 0., 0., 0., 0., 0., 0., 0., 0., 0.,\n",
            "        0., 0., 0., 0., 0., 0., 0., 0., 0., 0., 0., 0., 0., 0., 0., 0., 0., 0.,\n",
            "        0., 0., 0., 0., 0., 0., 0., 0., 0., 0., 0.])\n",
            "tensor(1.)\n"
          ]
        }
      ],
      "source": [
        "print(sample.node_feat[0])\n",
        "print(sample.node_feat[0][19])"
      ]
    },
    {
      "cell_type": "markdown",
      "id": "3ff10833-920c-4e4b-9341-966ec49d1b44",
      "metadata": {
        "id": "3ff10833-920c-4e4b-9341-966ec49d1b44"
      },
      "source": [
        "Let's also look at the edge features."
      ]
    },
    {
      "cell_type": "code",
      "execution_count": 17,
      "id": "e0dcd4f0-a7bf-4d3b-a9c8-4e8376b64d6f",
      "metadata": {
        "colab": {
          "base_uri": "https://localhost:8080/"
        },
        "id": "e0dcd4f0-a7bf-4d3b-a9c8-4e8376b64d6f",
        "outputId": "a7f7da9f-dd09-4d4f-eff7-0d55de39b893"
      },
      "outputs": [
        {
          "output_type": "execute_result",
          "data": {
            "text/plain": [
              "torch.Size([58, 40])"
            ]
          },
          "metadata": {},
          "execution_count": 17
        }
      ],
      "source": [
        "sample.edge_feat.shape"
      ]
    },
    {
      "cell_type": "markdown",
      "id": "8916a5fe-9812-4526-b652-18c4ed936ec8",
      "metadata": {
        "id": "8916a5fe-9812-4526-b652-18c4ed936ec8"
      },
      "source": [
        "Here we can see there are 58 edges in the structure. On average, that works out to ~10 edges per atom. There are 40 features per edge. Let's have a look at the features for the first edge in the material."
      ]
    },
    {
      "cell_type": "code",
      "execution_count": 18,
      "id": "1162182f-84af-4dcb-999a-cbd507235d78",
      "metadata": {
        "colab": {
          "base_uri": "https://localhost:8080/"
        },
        "id": "1162182f-84af-4dcb-999a-cbd507235d78",
        "outputId": "70879f25-a2fa-4bc4-ca09-f1a0c707ae9b"
      },
      "outputs": [
        {
          "output_type": "execute_result",
          "data": {
            "text/plain": [
              "tensor([0.0000e+00, 0.0000e+00, 0.0000e+00, 0.0000e+00, 0.0000e+00, 0.0000e+00,\n",
              "        0.0000e+00, 0.0000e+00, 0.0000e+00, 0.0000e+00, 0.0000e+00, 0.0000e+00,\n",
              "        0.0000e+00, 0.0000e+00, 0.0000e+00, 0.0000e+00, 0.0000e+00, 0.0000e+00,\n",
              "        0.0000e+00, 0.0000e+00, 0.0000e+00, 0.0000e+00, 0.0000e+00, 2.7147e-39,\n",
              "        1.5296e-31, 1.1663e-24, 1.2036e-18, 1.6810e-13, 3.1773e-09, 8.1274e-06,\n",
              "        2.8136e-03, 1.3182e-01, 8.3582e-01, 7.1722e-01, 8.3293e-02, 1.3091e-03,\n",
              "        2.7845e-06, 8.0156e-10, 3.1227e-14, 1.6464e-19])"
            ]
          },
          "metadata": {},
          "execution_count": 18
        }
      ],
      "source": [
        "sample.edge_feat[0]"
      ]
    },
    {
      "cell_type": "markdown",
      "id": "8e03dd14-305f-45d4-b092-755f88173c92",
      "metadata": {
        "id": "8e03dd14-305f-45d4-b092-755f88173c92"
      },
      "source": [
        "The edge embedding is the bond length projected onto a basis of 40 equally spaced gaussians. To understand this visually, consider the following plot where was have drawn a schematic of the gaussian basis functions. Each coloured line corresponds to one basis function. In this case we are only plotting 10 basis functions for clarity."
      ]
    },
    {
      "cell_type": "code",
      "execution_count": 19,
      "id": "b2042654-d013-4711-8e8a-76ac04741a3e",
      "metadata": {
        "colab": {
          "base_uri": "https://localhost:8080/",
          "height": 468
        },
        "id": "b2042654-d013-4711-8e8a-76ac04741a3e",
        "outputId": "d0e074b5-4db7-498d-946c-c1f5e913b4f2"
      },
      "outputs": [
        {
          "output_type": "execute_result",
          "data": {
            "text/plain": [
              "<matplotlib.legend.Legend at 0x79ee2684caf0>"
            ]
          },
          "metadata": {},
          "execution_count": 19
        },
        {
          "output_type": "display_data",
          "data": {
            "text/plain": [
              "<Figure size 640x480 with 1 Axes>"
            ],
            "image/png": "[encoded data removed]"
          },
          "metadata": {}
        }
      ],
      "source": [
        "fig, ax = plt.subplots()\n",
        "dists = np.linspace(0, 4, 100)\n",
        "centres = np.linspace(0, 4, 10)\n",
        "edge_feat = np.exp(-((dists[:, None] - centres) ** 2) / (centres[1] - centres[0]) ** 2)\n",
        "ax.plot(dists, edge_feat, label=[f\"Basis {i+1}\" for i in range(10)])\n",
        "ax.axvline(2.5, ls=\"--\", color=\"k\")\n",
        "ax.set(xlabel=\"Distance (Å)\", ylabel=\"Feature value\")\n",
        "plt.legend(bbox_to_anchor=(1, 1), loc=\"upper left\", frameon=False)"
      ]
    },
    {
      "cell_type": "markdown",
      "id": "8a3952f8-4ab8-42c2-b581-a9b087fed5ea",
      "metadata": {
        "id": "8a3952f8-4ab8-42c2-b581-a9b087fed5ea"
      },
      "source": [
        "To understand the embedding, consider a bond length of 2.5 Å shown by the black dotted line. For each basis function, the value of the function at 2.5 Å is used to form the embedding. IN this case, the first 3 basis functions have a value very close to zero at 2.5 Å, whereas basis functions 6 and 7 will have high values.\n",
        "\n",
        "In this example, the embedding would be:"
      ]
    },
    {
      "cell_type": "code",
      "execution_count": 20,
      "id": "95b47a30-907f-4e04-9009-6b0c66786617",
      "metadata": {
        "colab": {
          "base_uri": "https://localhost:8080/"
        },
        "id": "95b47a30-907f-4e04-9009-6b0c66786617",
        "outputId": "c939c161-a386-4116-90de-2391aab7f21d"
      },
      "outputs": [
        {
          "output_type": "execute_result",
          "data": {
            "text/plain": [
              "array([0.   , 0.   , 0.   , 0.001, 0.071, 0.677, 0.869, 0.151, 0.004,\n",
              "       0.   ])"
            ]
          },
          "metadata": {},
          "execution_count": 20
        }
      ],
      "source": [
        "edge_feat = np.exp(-((2.5 - centres) ** 2) / (centres[1] - centres[0]) ** 2).round(3)\n",
        "edge_feat"
      ]
    },
    {
      "cell_type": "markdown",
      "id": "9b8268e0-2d30-4c27-aa63-92b2f218ed66",
      "metadata": {
        "id": "9b8268e0-2d30-4c27-aa63-92b2f218ed66"
      },
      "source": [
        "The final piece of information necessary for convolutional graph networks are the indices of the central and destination nodes for each bond. Let's look at the source indices for our sample structure."
      ]
    },
    {
      "cell_type": "code",
      "execution_count": 21,
      "id": "c8211042-7259-41b2-8c50-153990dd87f5",
      "metadata": {
        "colab": {
          "base_uri": "https://localhost:8080/"
        },
        "id": "c8211042-7259-41b2-8c50-153990dd87f5",
        "outputId": "a91bcd09-96cc-4bde-ca65-545a7deb80c6"
      },
      "outputs": [
        {
          "output_type": "execute_result",
          "data": {
            "text/plain": [
              "tensor([0, 0, 0, 0, 0, 0, 0, 0, 0, 0, 0, 0, 0, 0, 0, 0, 1, 1, 1, 1, 1, 1, 1, 1,\n",
              "        1, 2, 2, 2, 2, 2, 2, 2, 2, 2, 3, 3, 3, 3, 3, 3, 3, 3, 3, 3, 3, 3, 4, 4,\n",
              "        4, 4, 4, 4, 4, 4, 4, 4, 4, 4])"
            ]
          },
          "metadata": {},
          "execution_count": 21
        }
      ],
      "source": [
        "sample.edge_src"
      ]
    },
    {
      "cell_type": "markdown",
      "id": "8d7bfc1b-a663-466e-9b5f-aedf18045aa8",
      "metadata": {
        "id": "8d7bfc1b-a663-466e-9b5f-aedf18045aa8"
      },
      "source": [
        "The numbers correspond to the index of the atoms in the structure. In our structure there are 5 atoms, so the indices only go up to 4 (all python arrays are zero-indexed).\n",
        "The first 15 numbers are all zero, indicating that the first atom in the structure has 15 bonds.\n",
        "\n",
        "Now let's look at the destination indices."
      ]
    },
    {
      "cell_type": "code",
      "execution_count": 22,
      "id": "1da9dba9-0ebd-4213-919f-bc812d960770",
      "metadata": {
        "colab": {
          "base_uri": "https://localhost:8080/"
        },
        "id": "1da9dba9-0ebd-4213-919f-bc812d960770",
        "outputId": "45170b59-c95b-405e-c8d9-5faf51c39e68"
      },
      "outputs": [
        {
          "output_type": "execute_result",
          "data": {
            "text/plain": [
              "tensor([2, 4, 1, 2, 4, 3, 2, 3, 1, 1, 4, 3, 3, 2, 1, 4, 4, 3, 4, 3, 2, 0, 0, 0,\n",
              "        0, 4, 0, 4, 0, 0, 3, 3, 0, 1, 0, 0, 4, 4, 1, 0, 4, 2, 4, 2, 1, 0, 2, 3,\n",
              "        3, 2, 1, 0, 0, 0, 3, 0, 1, 3])"
            ]
          },
          "metadata": {},
          "execution_count": 22
        }
      ],
      "source": [
        "sample.edge_dst"
      ]
    },
    {
      "cell_type": "markdown",
      "id": "273fa207-0664-4efc-bc1d-4bdd74b92783",
      "metadata": {
        "id": "273fa207-0664-4efc-bc1d-4bdd74b92783"
      },
      "source": [
        "Concentrating on the first 15 numbers (corresponding to atoms bonded to the first atom in the structure) you can see that there can be more than one bond to the same destination atom. The reason for this is periodic boundary conditions. Some of these bonds will be to atoms in adjacent unit cells. For that reason, their bond lengths and corresponding edge embeddings will all be different.\n",
        "\n",
        "You can think of the `edge_src` and the `edge_dst` as the node $i$ and $j$ indices from the lecture slides."
      ]
    },
    {
      "cell_type": "markdown",
      "id": "a244e6cf-4290-41ea-a4d7-a785f9d5d556",
      "metadata": {
        "id": "a244e6cf-4290-41ea-a4d7-a785f9d5d556"
      },
      "source": [
        "We can visualise the structure and corresponding graph using the builtin helper function. Note, the plot only shows one edge per pair of atoms."
      ]
    },
    {
      "cell_type": "code",
      "execution_count": 23,
      "id": "c32697a6-dbf5-48fc-bd5c-a7e9e8947b8a",
      "metadata": {
        "colab": {
          "base_uri": "https://localhost:8080/",
          "height": 335
        },
        "id": "c32697a6-dbf5-48fc-bd5c-a7e9e8947b8a",
        "outputId": "f7ca4c7e-e1d0-4e84-ce7d-34dd33ab9549"
      },
      "outputs": [
        {
          "output_type": "display_data",
          "data": {
            "text/plain": [
              "<Figure size 640x480 with 2 Axes>"
            ],
            "image/png": "[encoded data removed]"
          },
          "metadata": {}
        }
      ],
      "source": [
        "plot_sample(sample)"
      ]
    },
    {
      "cell_type": "markdown",
      "id": "f65e0244-bd75-45c9-b635-a0fa1ebee6bf",
      "metadata": {
        "id": "f65e0244-bd75-45c9-b635-a0fa1ebee6bf"
      },
      "source": [
        "## Split the data for train, test, and validation\n",
        "\n",
        "Now we split the dataset into the training, testing, and validation sets. Recall that the validation set is different from the test set.\n",
        "The validation set can be used to select hyperparameters, so is strictly part of the model selection process.\n",
        "\n",
        "We use 80% of the data for training, 10% for validation, and 10% for testing."
      ]
    },
    {
      "cell_type": "code",
      "execution_count": 24,
      "id": "15dcdb1d-cad6-4183-8cbe-b11fcc12ac77",
      "metadata": {
        "colab": {
          "base_uri": "https://localhost:8080/"
        },
        "id": "15dcdb1d-cad6-4183-8cbe-b11fcc12ac77",
        "outputId": "bc540713-27c8-4224-e1f3-dfe75024d6de"
      },
      "outputs": [
        {
          "output_type": "stream",
          "name": "stdout",
          "text": [
            "Number of training examples: 8790\n",
            "Number of validation examples: 1099\n",
            "Number of testing examples: 1098\n"
          ]
        }
      ],
      "source": [
        "train_set, valid_set, test_set = random_split(dataset, [0.8, 0.1, 0.1])\n",
        "\n",
        "print(f'Number of training examples: {len(train_set)}')\n",
        "print(f'Number of validation examples: {len(valid_set)}')\n",
        "print(f'Number of testing examples: {len(test_set)}')"
      ]
    },
    {
      "cell_type": "markdown",
      "id": "11d542d5-cb03-451c-aaa4-8e5a4c762eb3",
      "metadata": {
        "id": "11d542d5-cb03-451c-aaa4-8e5a4c762eb3"
      },
      "source": [
        "## Set up the batches\n",
        "\n",
        "We can also set up the mini-batches for training. Here, we use a custom \"collate function\" that will automatically handle grouping multiple graphs into a batch."
      ]
    },
    {
      "cell_type": "code",
      "execution_count": 25,
      "id": "9840dfe1-fbe2-4050-8607-a9f93e3c158a",
      "metadata": {
        "id": "9840dfe1-fbe2-4050-8607-a9f93e3c158a"
      },
      "outputs": [],
      "source": [
        "BATCH_SIZE = 32\n",
        "\n",
        "train_loader = DataLoader(\n",
        "    train_set, batch_size=BATCH_SIZE, collate_fn=collate_fn, shuffle=True,\n",
        ")\n",
        "\n",
        "valid_loader = DataLoader(\n",
        "    valid_set, batch_size=BATCH_SIZE, collate_fn=collate_fn,\n",
        ")\n",
        "\n",
        "test_loader = DataLoader(\n",
        "    test_set, batch_size=BATCH_SIZE, collate_fn=collate_fn,\n",
        ")"
      ]
    },
    {
      "cell_type": "markdown",
      "id": "7cdb9a03-7ca4-4359-9b5a-4818af44cb15",
      "metadata": {
        "id": "7cdb9a03-7ca4-4359-9b5a-4818af44cb15"
      },
      "source": [
        "## Explore the batch data format\n",
        "\n",
        "Before starting to construct the neural network architecture, it is worth spending a little time getting familiar with the format of the batched data.\n",
        "\n",
        "Each batch has the following information:\n",
        "\n",
        "- `node_feat`: The node features as a ($N$, n_node_feats) tensor.\n",
        "- `edge_feat`: The edge features as a ($M$, n_edge_feats) tensor.\n",
        "- `edge_src` : The index of the central node for each edge.\n",
        "- `edge_dst` : The index of the destination node for each edge.\n",
        "- `target` : The target property to learn, as a ($G$, 1) tensor.\n",
        "- `batch` : The graph to which each node belongs, as a ($N$, ) Tensor.\n",
        "\n",
        "Here $N$ and $M$ are the total number of atoms *in the batch*. $G$ is the total number of graphs (structures) in the batch.\n",
        "\n",
        "Let's have a look at the node features for the first batch of the test set."
      ]
    },
    {
      "cell_type": "code",
      "execution_count": 26,
      "id": "3399a116-17a7-4a80-a087-798aa6aeeb63",
      "metadata": {
        "colab": {
          "base_uri": "https://localhost:8080/"
        },
        "id": "3399a116-17a7-4a80-a087-798aa6aeeb63",
        "outputId": "128b209d-2d05-4a4e-cee5-0701bb162efe"
      },
      "outputs": [
        {
          "output_type": "execute_result",
          "data": {
            "text/plain": [
              "torch.Size([302, 119])"
            ]
          },
          "metadata": {},
          "execution_count": 26
        }
      ],
      "source": [
        "batch = next(iter(test_loader))\n",
        "batch.node_feat.shape"
      ]
    },
    {
      "cell_type": "markdown",
      "id": "6c1db241-93bd-444b-a345-619377fe3629",
      "metadata": {
        "id": "6c1db241-93bd-444b-a345-619377fe3629"
      },
      "source": [
        "Notice how now there are many more nodes (518 of them). The number of node features (i.e., the one-hot enconding of atom types) has remained the same.\n",
        "\n",
        "The number of edges in the batch has also increased significantly."
      ]
    },
    {
      "cell_type": "code",
      "execution_count": 27,
      "id": "6e55c841-1373-4d27-9011-301e0fe8ef13",
      "metadata": {
        "colab": {
          "base_uri": "https://localhost:8080/"
        },
        "id": "6e55c841-1373-4d27-9011-301e0fe8ef13",
        "outputId": "6a106bd9-5cfe-4544-e2f1-6146ab0d9b45"
      },
      "outputs": [
        {
          "output_type": "execute_result",
          "data": {
            "text/plain": [
              "torch.Size([5778, 40])"
            ]
          },
          "metadata": {},
          "execution_count": 27
        }
      ],
      "source": [
        "batch.edge_feat.shape"
      ]
    },
    {
      "cell_type": "markdown",
      "id": "e1436a37-9442-43af-8182-b9f193614a2c",
      "metadata": {
        "id": "e1436a37-9442-43af-8182-b9f193614a2c"
      },
      "source": [
        "Because we need to handle multiple graphs simultaneously, the `batch.batch` attribute is essential to know which graph each atom belongs to.\n",
        "Let's look at the first 100 values in this array."
      ]
    },
    {
      "cell_type": "code",
      "execution_count": 28,
      "id": "ad4affde-5ab2-43a1-96fb-cf0deb426e0a",
      "metadata": {
        "colab": {
          "base_uri": "https://localhost:8080/"
        },
        "id": "ad4affde-5ab2-43a1-96fb-cf0deb426e0a",
        "outputId": "0bcdb117-cb7a-4189-d39f-0f5a93916165"
      },
      "outputs": [
        {
          "output_type": "execute_result",
          "data": {
            "text/plain": [
              "tensor([ 0,  0,  0,  0,  0,  1,  1,  2,  2,  2,  2,  2,  3,  3,  3,  3,  3,  3,\n",
              "         3,  3,  3,  3,  3,  4,  4,  4,  4,  5,  5,  5,  5,  6,  6,  6,  6,  6,\n",
              "         7,  7,  7,  7,  7,  7,  7,  7,  7,  7,  7,  7,  7,  7,  7,  7,  7,  7,\n",
              "         7,  7,  8,  8,  8,  8,  8,  8,  9,  9,  9,  9, 10, 10, 10, 10, 11, 11,\n",
              "        11, 11, 11, 11, 11, 11, 11, 12, 12, 12, 12, 12, 12, 12, 12, 13, 13, 13,\n",
              "        13, 13, 13, 13, 13, 14, 14, 14, 14, 14])"
            ]
          },
          "metadata": {},
          "execution_count": 28
        }
      ],
      "source": [
        "batch.batch[:100]"
      ]
    },
    {
      "cell_type": "markdown",
      "id": "3453edb7-b8d1-4ffd-b34d-5a6ebaff0c4e",
      "metadata": {
        "id": "3453edb7-b8d1-4ffd-b34d-5a6ebaff0c4e"
      },
      "source": [
        "This tells us that the first five nodes in the `batch.node_feat` array correspond to the first structure, while the next two nodes belong to the second structure, etc."
      ]
    },
    {
      "cell_type": "markdown",
      "id": "b22ce99c-5742-4d20-89eb-c336e72d6a7a",
      "metadata": {
        "id": "b22ce99c-5742-4d20-89eb-c336e72d6a7a"
      },
      "source": [
        "## Crystal Graph Convolutional Neural Networks – Convolution\n",
        "\n",
        "The first step in building the model is defining a graph convolution.\n",
        "\n",
        "In the CGCNN model, we need to compute the following steps:\n",
        "\n",
        "$$\n",
        "\\mathbf{m}_i^{(t)} = \\mathbf{v}_i^{(t)} \\bigoplus \\mathbf{v}_j^{(t)} \\bigoplus \\mathbf{e}_{ij}^{(t)}\n",
        "$$\n",
        "\n",
        "where $i$ and $j$ are the indices of the central and neighbouring atoms, $\\mathbf{v}^{(t)}$ and $\\mathbf{e}^{(t)}$ are the node and edge embeddings for convolution $t$. The update function is performed as:\n",
        "\n",
        "$$\n",
        "\\mathbf{z}_i^{(t)} = \\mathbf{v}_i^{(t)} + \\sum_{j \\in \\mathcal{N}(i)}\n",
        " \\sigma \\left ( \\mathbf{W}_f^{(t)} \\mathbf{m}_i^{(t)} + \\mathbf{b}_f^{(t)} \\right )\n",
        " \\bigodot g \\left ( \\mathbf{W}_s^{(t)} \\mathbf{m}_i^{(t)} + \\mathbf{b}_s^{(t)} \\right )\n",
        "$$\n",
        "\n",
        "$$\n",
        "\\mathbf{v}_i^{(t+1)} = g(\\mathbf{z}_i^{(t)})\n",
        "$$\n",
        "\n",
        "where $\\sigma$ and g are the sigmoid and softplus activation functions, and $\\mathbf{W}$ and $\\mathbf{b}$ are the weights and biases.\n",
        "\n",
        "## Convolution implementation\n",
        "\n",
        "As discussed in the previous lesson, in pytorch we build networks as a class. Below, we have implemented the convolution layer from CGCNN.\n",
        "The steps required to build a network can be summarised as:\n",
        "- Declare the class - it should be a subclass of the `nn.Module` class from `pytorch`\n",
        "- Define what inputs it takes upon declaration - in this case `node_feat_dim` and `edge_feat_dim`\n",
        "- `super` makes sure it inherits attributes from nn.Module\n",
        "- We then define the different types of layers that we will use – in this case we have a linear layer and two batch normalisation layers.\n",
        "- Then we define a method `forward` which is what gets called when data is passed through the network, this basically moves the data x through the layers\n",
        "\n"
      ]
    },
    {
      "cell_type": "code",
      "execution_count": 29,
      "id": "080fc813-8a82-4a08-ae87-39ab2def725d",
      "metadata": {
        "id": "080fc813-8a82-4a08-ae87-39ab2def725d"
      },
      "outputs": [],
      "source": [
        "class GraphConvolution(nn.Module):\n",
        "\n",
        "    def __init__(self, node_feat_dim, edge_feat_dim):\n",
        "        \"\"\"\n",
        "        Convolutional layer for graphs.\n",
        "\n",
        "        Parameters\n",
        "        ----------\n",
        "        node_feat_dim : int\n",
        "          Number of node features.\n",
        "        edge_feat_dim : int\n",
        "          Number of edge features.\n",
        "        \"\"\"\n",
        "        super().__init__()\n",
        "\n",
        "        # linear layer used for the gated MLP\n",
        "        self.lin1 = nn.Linear(\n",
        "            2 * node_feat_dim + edge_feat_dim,\n",
        "            2 * node_feat_dim,\n",
        "        )\n",
        "\n",
        "        # normalisation layers\n",
        "        self.bn1 = nn.BatchNorm1d(2 * node_feat_dim)\n",
        "        self.bn2 = nn.BatchNorm1d(node_feat_dim)\n",
        "\n",
        "    def forward(self, node_feat, edge_feat, edge_src, edge_dst):\n",
        "        \"\"\"Perform the convolution.\n",
        "\n",
        "        Parameters\n",
        "        ----------\n",
        "        node_feat : Tensor\n",
        "            The node features.\n",
        "        edge_feat : Tensor\n",
        "            The edge features\n",
        "        edge_src : Tensor\n",
        "            The indices of the central nodes for the edges.\n",
        "        edge_dst : Tensor\n",
        "            The indices of the desintation nodes for the edges.\n",
        "        \"\"\"\n",
        "        # concatenate node and edge features\n",
        "        m = torch.cat([node_feat[edge_src], node_feat[edge_dst], edge_feat], dim=1)\n",
        "\n",
        "        # gated MLP\n",
        "        z = self.lin1(m)\n",
        "        z = self.bn1(z)\n",
        "        z1, z2 = z.chunk(2, dim=1)\n",
        "        z1 = nn.Sigmoid()(z1)\n",
        "        z2 = nn.Softplus()(z2)\n",
        "        z = z1 * z2\n",
        "\n",
        "        # pool features\n",
        "        z = torch_scatter.scatter_add(z, edge_src, out=torch.zeros_like(node_feat), dim=0)\n",
        "\n",
        "        # pass through normalisation layer\n",
        "        return nn.Softplus()(self.bn2(z) + node_feat)"
      ]
    },
    {
      "cell_type": "markdown",
      "id": "a789075b-1df1-4666-9a6d-2a921ab82c13",
      "metadata": {
        "id": "a789075b-1df1-4666-9a6d-2a921ab82c13"
      },
      "source": [
        "Have a look at the `forward` method of the convolution and see if you can understand the components and their relation to the formulas described above. Note that the implementation includes two normalisation layers `bn1` and `bn2` that are omitted from the formulas for clarity."
      ]
    },
    {
      "cell_type": "markdown",
      "id": "050554ea-c75f-4fa1-b5b9-857cd82c5a88",
      "metadata": {
        "id": "050554ea-c75f-4fa1-b5b9-857cd82c5a88"
      },
      "source": [
        "## Full graph network architecture\n",
        "\n",
        "Now we have the convolution, we can construct the full CGCNN model.\n",
        "\n",
        "The additional components of the CGCNN architecture are as follows:\n",
        "- An MLP that transforms the one-hot encoded node features to the node embedding. The dimensionality of the node embedding is controlled by `node_hidden_dim`.\n",
        "- The pooling of node features to obtain the crystal features $\\mathbf{u}_c$, calculated as:\n",
        "\n",
        "$$\n",
        "\\mathbf{u}_c = \\sum_{i \\in \\mathcal{G}} \\frac{\\mathbf{v}_i^{(T)}}{|\\mathcal{G}|}\n",
        "$$\n",
        "- An MLP that takes $\\mathbf{u}_c$ and outputs the target property. In CGCNN this consists of a fully-connected layer with soft-plus activation, followed by a fully-connected layer with no-activation function.\n",
        "\n",
        "Below we give an implementation of the CGCNN model. The number of convolutions can be controlled using the `num_graph_conv_layers` parameter.\n"
      ]
    },
    {
      "cell_type": "code",
      "execution_count": 30,
      "id": "bca0add4-d8b2-4c2c-9173-4f556e614438",
      "metadata": {
        "id": "bca0add4-d8b2-4c2c-9173-4f556e614438"
      },
      "outputs": [],
      "source": [
        "class CGCNN(nn.Module):\n",
        "    def __init__(\n",
        "        self,\n",
        "        node_feat_dim,\n",
        "        edge_feat_dim,\n",
        "        node_hidden_dim=64,\n",
        "        num_graph_conv_layers=3,\n",
        "        fc_feat_dim=128\n",
        "    ):\n",
        "        \"\"\"\n",
        "        Crystal Graph Convolutional Neural Network\n",
        "\n",
        "        Parameters\n",
        "        ----------\n",
        "        node_feat_dim : int\n",
        "          Number of initial node features from one-hot encoding.\n",
        "        edge_feat_dim : int\n",
        "          Number of bond features.\n",
        "        node_hidden_dim : int\n",
        "          The number of features in the node embedding.\n",
        "        num_graph_conv_layers: int\n",
        "          Number of convolutional layers.\n",
        "        fc_feat_dim: int\n",
        "          Number of hidden features after pooling.\n",
        "        \"\"\"\n",
        "        super().__init__()\n",
        "\n",
        "        # dense layer to transform one-hot encoded node features to embedding\n",
        "        self.embedding = nn.Linear(node_feat_dim, node_hidden_dim)\n",
        "\n",
        "        # set up the convolutions\n",
        "        convs = []\n",
        "        for _ in range(num_graph_conv_layers):\n",
        "            convs.append(GraphConvolution(node_feat_dim=node_hidden_dim, edge_feat_dim=edge_feat_dim))\n",
        "        self.convs = nn.ModuleList(convs)\n",
        "\n",
        "        # dense layer to turn final node embeddings to the crystal features\n",
        "        self.conv_to_fc = nn.Sequential(\n",
        "           nn.Linear(node_hidden_dim, fc_feat_dim), nn.Softplus()\n",
        "        )\n",
        "\n",
        "        # dense layer to get the final target value\n",
        "        self.fc_out = nn.Linear(fc_feat_dim, 1)\n",
        "\n",
        "    def forward(self, batch):\n",
        "        \"\"\"\n",
        "        Predict the target property given a batch of data.\n",
        "\n",
        "        Parameters\n",
        "        ----------\n",
        "        batch : Batch\n",
        "            The data to pass through the network.\n",
        "        \"\"\"\n",
        "        # get initial node embedding\n",
        "        node_feat = self.embedding(batch.node_feat)\n",
        "\n",
        "        # apply convolutions\n",
        "        for conv_func in self.convs:\n",
        "            node_feat = conv_func(node_feat, batch.edge_feat, batch.edge_src, batch.edge_dst)\n",
        "\n",
        "        # pool node vectors\n",
        "        crys_feat = torch_scatter.scatter_mean(node_feat, batch.batch, dim=0)\n",
        "\n",
        "        # pass pooled vector through FC layer with activation\n",
        "        crys_feat = self.conv_to_fc(crys_feat)\n",
        "\n",
        "        # pass crystal features through final fully-connected layer\n",
        "        return self.fc_out(crys_feat)"
      ]
    },
    {
      "cell_type": "markdown",
      "id": "b3369fde-5a00-43be-8180-e9c0e76305b0",
      "metadata": {
        "id": "b3369fde-5a00-43be-8180-e9c0e76305b0"
      },
      "source": [
        "Look at the `forward` method and see if you can understand the components and their relation to the formulas given above.\n",
        "\n",
        "We can now use the `CGCNN` class to build the full network."
      ]
    },
    {
      "cell_type": "code",
      "execution_count": 31,
      "id": "5d44d8e0-d51a-4fba-90bf-04bf8477c24c",
      "metadata": {
        "id": "5d44d8e0-d51a-4fba-90bf-04bf8477c24c"
      },
      "outputs": [],
      "source": [
        "NUM_NODE_FEATURES = sample.node_feat.size()[1]\n",
        "NUM_EDGE_FEATURES = sample.edge_feat.size()[1]\n",
        "\n",
        "NUM_CONVOLUTIONS = 3\n",
        "\n",
        "model = CGCNN(\n",
        "    NUM_NODE_FEATURES,\n",
        "    NUM_EDGE_FEATURES,\n",
        "    num_graph_conv_layers=NUM_CONVOLUTIONS\n",
        ")"
      ]
    },
    {
      "cell_type": "markdown",
      "id": "ad258e1e-beea-4e42-834e-20ff7ad2ffd0",
      "metadata": {
        "id": "ad258e1e-beea-4e42-834e-20ff7ad2ffd0"
      },
      "source": [
        "##  Training the Model\n",
        "\n",
        "Next, we'll define our optimizer. This is the algorithm we will use to update the parameters of our model with respect to the loss calculated on the data. We aren't going to go into too much detail on how neural networks are trained (see [this](http://neuralnetworksanddeeplearning.com/) article if you want to know how) but the gist is:\n",
        "- pass a batch of data through your model\n",
        "- calculate the loss of your batch by comparing your model's predictions against the target value\n",
        "- calculate the gradient of each of your parameters with respect to the loss\n",
        "- update each of your parameters by subtracting their gradient multiplied by a small learning rate parameter\n",
        "\n",
        "We use the AdamW optimiser with the default parameters to update our model. Improved results could be obtained by searching over different optimizers and learning rates, however AdamW is a reasonable starting off point. Check out [this](https://ruder.io/optimizing-gradient-descent/) article if you want to learn more about the different optimization algorithms commonly used for neural networks.\n",
        "\n",
        "Then, we define a criterion, PyTorch's name for a loss/cost/error function. This function will take in your model's predictions with the actual target value and then compute the loss/cost/error of your model with its current parameters.\n",
        "\n",
        "In this case, we will use the mean squared error loss function, defined as:\n",
        "\n",
        "$$\n",
        "\\mathrm{MSE} = \\frac{1}{n} \\sum_{i=1}^{n} (y_i - \\hat{y}_i)^2\n",
        "$$\n",
        "where $n$ is the number of data points, $y_i$ are the actual values, and $\\hat{y}_i$ are the predicted values from the model."
      ]
    },
    {
      "cell_type": "code",
      "execution_count": 32,
      "id": "6ca2bc35-8ba9-46e3-8400-ac4a9b54d785",
      "metadata": {
        "id": "6ca2bc35-8ba9-46e3-8400-ac4a9b54d785"
      },
      "outputs": [],
      "source": [
        "optimizer = torch.optim.AdamW(model.parameters())\n",
        "criterion = nn.MSELoss()"
      ]
    },
    {
      "cell_type": "markdown",
      "id": "d992cb3c-d4b2-449f-9680-07c7acf486bd",
      "metadata": {
        "id": "d992cb3c-d4b2-449f-9680-07c7acf486bd"
      },
      "source": [
        "## Look for GPUs\n",
        "In pytorch automatically defaults to run on cpu. You can check for avialible gpus, then move all of the code across to GPU if you like."
      ]
    },
    {
      "cell_type": "code",
      "execution_count": 33,
      "id": "63283cf5-eb9c-494c-bd36-1a6d918a9ed9",
      "metadata": {
        "id": "63283cf5-eb9c-494c-bd36-1a6d918a9ed9"
      },
      "outputs": [],
      "source": [
        "device = torch.device('cuda' if torch.cuda.is_available() else 'cpu')\n",
        "\n",
        "model = model.to(device)\n",
        "criterion = criterion.to(device)"
      ]
    },
    {
      "cell_type": "markdown",
      "id": "5bd4f694-b0d7-4c04-989d-83e257065e20",
      "metadata": {
        "id": "5bd4f694-b0d7-4c04-989d-83e257065e20"
      },
      "source": [
        "## Define a training loop\n",
        "\n",
        "We now define a function to train the model. This function will:\n",
        "- put our model into train mode\n",
        "- iterate over our dataloader, returning one batch at a time\n",
        "- place the batch on to our GPU, if we have one\n",
        "- clear the gradients calculated from the last batch\n",
        "- pass our batch through the CGCNN model to get out predictions, `y_pred`\n",
        "- calculate the loss between our predictions and the actual target value\n",
        "- calculate the gradients of each parameter\n",
        "- update the parameters by taking an optimizer step\n",
        "- update our metrics\n",
        "\n",
        "Some layers act differently when training and evaluating the model that contains them, hence why we must tell our model we are in \"training\" mode. The model we are using here does not use any of those layers, however it is good practice to get used to putting your model in training mode."
      ]
    },
    {
      "cell_type": "code",
      "execution_count": 34,
      "id": "6f89309a-2867-467c-ae66-f05543c87cbf",
      "metadata": {
        "id": "6f89309a-2867-467c-ae66-f05543c87cbf"
      },
      "outputs": [],
      "source": [
        "def train(model, dataloader, criterion, optimizer, device):\n",
        "    epoch_loss = 0\n",
        "    epoch_mae = 0\n",
        "\n",
        "    model.train()\n",
        "\n",
        "    for i, batch in enumerate(dataloader):\n",
        "        # move the data onto the GPU if available\n",
        "        batch.to(device)\n",
        "\n",
        "        # compute output\n",
        "        y_pred = model(batch)\n",
        "        loss = criterion(y_pred, batch.target)\n",
        "        mae = nn.L1Loss()(y_pred, batch.target)\n",
        "\n",
        "        # compute gradient\n",
        "        optimizer.zero_grad()\n",
        "        loss.backward()\n",
        "        optimizer.step()\n",
        "\n",
        "        # update metrics\n",
        "        epoch_loss += loss.item()\n",
        "        epoch_mae += mae.item()\n",
        "\n",
        "    return epoch_loss / len(dataloader), epoch_mae / len(dataloader)"
      ]
    },
    {
      "cell_type": "markdown",
      "id": "645cafef-d947-4cd4-9787-2f9ab6fc0366",
      "metadata": {
        "id": "645cafef-d947-4cd4-9787-2f9ab6fc0366"
      },
      "source": [
        "# Set up an evaluation loop\n",
        "\n",
        "This is very similar to the training loop, except that we do not pass the gradients back to updated the weights."
      ]
    },
    {
      "cell_type": "code",
      "execution_count": 35,
      "id": "65b2e934-4267-43f2-af4a-6465ff5c8571",
      "metadata": {
        "id": "65b2e934-4267-43f2-af4a-6465ff5c8571"
      },
      "outputs": [],
      "source": [
        "def evaluate(model, dataloader, criterion, device):\n",
        "    epoch_loss = 0\n",
        "    epoch_mae = 0\n",
        "\n",
        "    model.eval()\n",
        "\n",
        "    with torch.no_grad():\n",
        "        for i, batch in enumerate(dataloader):\n",
        "            batch.to(device)\n",
        "\n",
        "            # compute output\n",
        "            y_pred = model(batch)\n",
        "            loss = criterion(y_pred, batch.target)\n",
        "            mae = nn.L1Loss()(y_pred, batch.target)\n",
        "\n",
        "            # update metrics\n",
        "            epoch_loss += loss.item()\n",
        "            epoch_mae += mae.item()\n",
        "\n",
        "    return epoch_loss / len(dataloader), epoch_mae / len(dataloader)"
      ]
    },
    {
      "cell_type": "markdown",
      "id": "bc30dac4-b411-4096-916d-d9e661008e6b",
      "metadata": {
        "id": "bc30dac4-b411-4096-916d-d9e661008e6b"
      },
      "source": [
        "## Run the training\n",
        "\n",
        "Here we will train for 30 epochs. At the end of each epoch we check the validation loss, if it is better than the previous best, then we save the model"
      ]
    },
    {
      "cell_type": "code",
      "execution_count": 36,
      "id": "4bc23c16-8811-4c09-9a47-12db5efb958b",
      "metadata": {
        "colab": {
          "base_uri": "https://localhost:8080/"
        },
        "id": "4bc23c16-8811-4c09-9a47-12db5efb958b",
        "outputId": "4da8134c-9c61-41e5-e967-1a36aad48308"
      },
      "outputs": [
        {
          "output_type": "stream",
          "name": "stdout",
          "text": [
            "Epoch: 01 | Train MAE:   0.2029 | Valid MAE:   0.1604 |   Elapsed time: 00 min 03 s\n",
            "Epoch: 02 | Train MAE:   0.1592 | Valid MAE:   0.1380 |   Elapsed time: 00 min 05 s\n",
            "Epoch: 03 | Train MAE:   0.1527 | Valid MAE:   0.1266 |   Elapsed time: 00 min 08 s\n",
            "Epoch: 04 | Train MAE:   0.1411 | Valid MAE:   0.1200 |   Elapsed time: 00 min 10 s\n",
            "Epoch: 05 | Train MAE:   0.1389 | Valid MAE:   0.1192 |   Elapsed time: 00 min 13 s\n",
            "Epoch: 06 | Train MAE:   0.1310 | Valid MAE:   0.1281 |   Elapsed time: 00 min 15 s\n",
            "Epoch: 07 | Train MAE:   0.1290 | Valid MAE:   0.1295 |   Elapsed time: 00 min 17 s\n",
            "Epoch: 08 | Train MAE:   0.1377 | Valid MAE:   0.1127 |   Elapsed time: 00 min 19 s\n",
            "Epoch: 09 | Train MAE:   0.1249 | Valid MAE:   0.1182 |   Elapsed time: 00 min 22 s\n",
            "Epoch: 10 | Train MAE:   0.1307 | Valid MAE:   0.1228 |   Elapsed time: 00 min 24 s\n",
            "Epoch: 11 | Train MAE:   0.1279 | Valid MAE:   0.1084 |   Elapsed time: 00 min 26 s\n",
            "Epoch: 12 | Train MAE:   0.1238 | Valid MAE:   0.1051 |   Elapsed time: 00 min 28 s\n",
            "Epoch: 13 | Train MAE:   0.1198 | Valid MAE:   0.1163 |   Elapsed time: 00 min 30 s\n",
            "Epoch: 14 | Train MAE:   0.1189 | Valid MAE:   0.1081 |   Elapsed time: 00 min 32 s\n",
            "Epoch: 15 | Train MAE:   0.1159 | Valid MAE:   0.1266 |   Elapsed time: 00 min 35 s\n",
            "Epoch: 16 | Train MAE:   0.1103 | Valid MAE:   0.1153 |   Elapsed time: 00 min 37 s\n",
            "Epoch: 17 | Train MAE:   0.1093 | Valid MAE:   0.1219 |   Elapsed time: 00 min 39 s\n",
            "Epoch: 18 | Train MAE:   0.1139 | Valid MAE:   0.1267 |   Elapsed time: 00 min 42 s\n",
            "Epoch: 19 | Train MAE:   0.1070 | Valid MAE:   0.1039 |   Elapsed time: 00 min 44 s\n",
            "Epoch: 20 | Train MAE:   0.1053 | Valid MAE:   0.1018 |   Elapsed time: 00 min 46 s\n",
            "Epoch: 21 | Train MAE:   0.1066 | Valid MAE:   0.1200 |   Elapsed time: 00 min 49 s\n",
            "Epoch: 22 | Train MAE:   0.1005 | Valid MAE:   0.1008 |   Elapsed time: 00 min 51 s\n",
            "Epoch: 23 | Train MAE:   0.1011 | Valid MAE:   0.1091 |   Elapsed time: 00 min 53 s\n",
            "Epoch: 24 | Train MAE:   0.1017 | Valid MAE:   0.1144 |   Elapsed time: 00 min 55 s\n",
            "Epoch: 25 | Train MAE:   0.0994 | Valid MAE:   0.1260 |   Elapsed time: 00 min 57 s\n",
            "Epoch: 26 | Train MAE:   0.1037 | Valid MAE:   0.1064 |   Elapsed time: 01 min 00 s\n",
            "Epoch: 27 | Train MAE:   0.0990 | Valid MAE:   0.1071 |   Elapsed time: 01 min 02 s\n",
            "Epoch: 28 | Train MAE:   0.0969 | Valid MAE:   0.1096 |   Elapsed time: 01 min 04 s\n",
            "Epoch: 29 | Train MAE:   0.0920 | Valid MAE:   0.1102 |   Elapsed time: 01 min 06 s\n",
            "Epoch: 30 | Train MAE:   0.0962 | Valid MAE:   0.0993 |   Elapsed time: 01 min 09 s\n",
            "Epoch: 31 | Train MAE:   0.0948 | Valid MAE:   0.1043 |   Elapsed time: 01 min 11 s\n",
            "Epoch: 32 | Train MAE:   0.0931 | Valid MAE:   0.1043 |   Elapsed time: 01 min 14 s\n",
            "Epoch: 33 | Train MAE:   0.0919 | Valid MAE:   0.1054 |   Elapsed time: 01 min 16 s\n",
            "Epoch: 34 | Train MAE:   0.0897 | Valid MAE:   0.0984 |   Elapsed time: 01 min 18 s\n",
            "Epoch: 35 | Train MAE:   0.0929 | Valid MAE:   0.1222 |   Elapsed time: 01 min 20 s\n",
            "Epoch: 36 | Train MAE:   0.0887 | Valid MAE:   0.1030 |   Elapsed time: 01 min 22 s\n",
            "Epoch: 37 | Train MAE:   0.0892 | Valid MAE:   0.1051 |   Elapsed time: 01 min 25 s\n",
            "Epoch: 38 | Train MAE:   0.0861 | Valid MAE:   0.1103 |   Elapsed time: 01 min 27 s\n",
            "Epoch: 39 | Train MAE:   0.0864 | Valid MAE:   0.1065 |   Elapsed time: 01 min 29 s\n",
            "Epoch: 40 | Train MAE:   0.0856 | Valid MAE:   0.1011 |   Elapsed time: 01 min 31 s\n"
          ]
        }
      ],
      "source": [
        "EPOCHS = 40\n",
        "\n",
        "best_valid_loss = float('inf')\n",
        "history = []\n",
        "start_time = time.time()\n",
        "\n",
        "for epoch in range(EPOCHS):\n",
        "\n",
        "    train_loss, train_mae = train(model, train_loader, criterion, optimizer, device)\n",
        "    valid_loss, valid_mae = evaluate(model, valid_loader, criterion, device)\n",
        "\n",
        "    if valid_loss < best_valid_loss:\n",
        "        best_valid_loss = valid_loss\n",
        "        torch.save(model.state_dict(), 'elastic-model.pt')\n",
        "\n",
        "    epoch_time = time.time() - start_time\n",
        "    history.append({'epoch': epoch, 'epoch_time': epoch_time,\n",
        "                    'valid_mae': valid_mae, 'train_mae': train_mae})\n",
        "\n",
        "    print(f'Epoch: {epoch+1:02} | Train MAE: {train_mae:8.4f} | Valid MAE: {valid_mae:8.4f}'\n",
        "          f' |   Elapsed time: {time.strftime(\"%M min %S s\", time.gmtime(epoch_time))}')"
      ]
    },
    {
      "cell_type": "markdown",
      "id": "5edbbe07-685a-4fec-a8dd-93ad277f2525",
      "metadata": {
        "id": "5edbbe07-685a-4fec-a8dd-93ad277f2525"
      },
      "source": [
        "## Plotting model training\n",
        "\n",
        "We can plot the performance of the model during the training."
      ]
    },
    {
      "cell_type": "code",
      "execution_count": 37,
      "id": "9e3cc0e1-f070-4630-aebd-f1e27fbad29d",
      "metadata": {
        "id": "9e3cc0e1-f070-4630-aebd-f1e27fbad29d",
        "outputId": "6931e137-d762-4d72-898b-649efaa60c62",
        "colab": {
          "base_uri": "https://localhost:8080/",
          "height": 467
        }
      },
      "outputs": [
        {
          "output_type": "execute_result",
          "data": {
            "text/plain": [
              "<matplotlib.legend.Legend at 0x79ee23faec80>"
            ]
          },
          "metadata": {},
          "execution_count": 37
        },
        {
          "output_type": "display_data",
          "data": {
            "text/plain": [
              "<Figure size 640x480 with 1 Axes>"
            ],
            "image/png": "[encoded data removed]"
          },
          "metadata": {}
        }
      ],
      "source": [
        "epochs = [x[\"epoch\"] for x in history]\n",
        "train_loss = [x[\"train_mae\"] for x in history]\n",
        "valid_loss = [x[\"valid_mae\"] for x in history]\n",
        "\n",
        "fig, ax = plt.subplots()\n",
        "ax.plot(epochs, train_loss, label=\"train\")\n",
        "ax.plot(epochs, valid_loss, label=\"valid\")\n",
        "ax.set(xlabel=\"Epoch\", ylabel=\"MAE\")\n",
        "plt.legend()"
      ]
    },
    {
      "cell_type": "markdown",
      "id": "b6416b16-870f-4b5a-afe4-fdf195e37bc9",
      "metadata": {
        "id": "b6416b16-870f-4b5a-afe4-fdf195e37bc9"
      },
      "source": [
        "## Evaluating model accuracy on the test set\n",
        "\n",
        "Now we can evaluate the model on the test set."
      ]
    },
    {
      "cell_type": "code",
      "execution_count": 38,
      "id": "0fddfef1-62c1-4f3a-86f3-381421d1188c",
      "metadata": {
        "id": "0fddfef1-62c1-4f3a-86f3-381421d1188c",
        "outputId": "3b3414b6-2f56-48a9-f6f2-c8c762bbc1da",
        "colab": {
          "base_uri": "https://localhost:8080/"
        }
      },
      "outputs": [
        {
          "output_type": "stream",
          "name": "stdout",
          "text": [
            "Test MAE:   0.0981\n"
          ]
        },
        {
          "output_type": "stream",
          "name": "stderr",
          "text": [
            "<ipython-input-38-c33d2bdc6c8f>:1: FutureWarning: You are using `torch.load` with `weights_only=False` (the current default value), which uses the default pickle module implicitly. It is possible to construct malicious pickle data which will execute arbitrary code during unpickling (See https://github.com/pytorch/pytorch/blob/main/SECURITY.md#untrusted-models for more details). In a future release, the default value for `weights_only` will be flipped to `True`. This limits the functions that could be executed during unpickling. Arbitrary objects will no longer be allowed to be loaded via this mode unless they are explicitly allowlisted by the user via `torch.serialization.add_safe_globals`. We recommend you start setting `weights_only=True` for any use case where you don't have full control of the loaded file. Please open an issue on GitHub for any issues related to this experimental feature.\n",
            "  model.load_state_dict(torch.load('elastic-model.pt'))\n"
          ]
        }
      ],
      "source": [
        "model.load_state_dict(torch.load('elastic-model.pt'))\n",
        "test_loss, test_mae = evaluate(model, test_loader, criterion, device)\n",
        "print(f\"Test MAE: {test_mae:8.4f}\")"
      ]
    },
    {
      "cell_type": "markdown",
      "id": "72762799-28c3-4931-96b6-9b6db0e6df69",
      "metadata": {
        "id": "72762799-28c3-4931-96b6-9b6db0e6df69"
      },
      "source": [
        "We can also plot the predictions of the model against the actual values."
      ]
    },
    {
      "cell_type": "code",
      "execution_count": 39,
      "id": "1dd5ce90-44e8-4457-b833-fbfab8498a8b",
      "metadata": {
        "id": "1dd5ce90-44e8-4457-b833-fbfab8498a8b",
        "outputId": "11ff6b36-5846-4893-ae29-dd8415bd6da3",
        "colab": {
          "base_uri": "https://localhost:8080/",
          "height": 477
        }
      },
      "outputs": [
        {
          "output_type": "execute_result",
          "data": {
            "text/plain": [
              "<matplotlib.legend.Legend at 0x79ee2418a6b0>"
            ]
          },
          "metadata": {},
          "execution_count": 39
        },
        {
          "output_type": "display_data",
          "data": {
            "text/plain": [
              "<Figure size 640x480 with 1 Axes>"
            ],
            "image/png": "[encoded data removed]"
          },
          "metadata": {}
        }
      ],
      "source": [
        "import matplotlib.pyplot as plt\n",
        "\n",
        "actual = []\n",
        "predicted = []\n",
        "\n",
        "model.eval()\n",
        "with torch.no_grad():\n",
        "    for i, batch in enumerate(test_loader):\n",
        "        batch.to(device)\n",
        "        y_pred = model(batch)\n",
        "        predicted.extend(y_pred.data.cpu().tolist())\n",
        "        actual.extend(batch.target.tolist())\n",
        "\n",
        "fig, ax = plt.subplots()\n",
        "ax.scatter(actual, predicted, label=\"train\")\n",
        "ax.plot([0, 3], [0, 3], ls=\"--\", c=\"grey\")\n",
        "ax.set(ylabel=\"Predicted log10(G$_{vrh}$)\", xlabel=\"Actual log10(G$_{vrh}$)\", xlim=(0, 3), ylim=(0, 3))\n",
        "plt.legend()"
      ]
    },
    {
      "cell_type": "markdown",
      "id": "ac84b2f2-80d3-403e-a016-d0acb4844213",
      "metadata": {
        "id": "ac84b2f2-80d3-403e-a016-d0acb4844213"
      },
      "source": [
        "## Exercises\n",
        "\n",
        "1. Assess the impact of changing the number of convolutions on the model accuracy. What is the optimum value for this dataset.\n",
        "2. Try changing the node embedding length. Is the default value optimal.\n",
        "3. How does the performance of our model compare to the state-of-the-art on the [matbench website](https://matbench.materialsproject.org)?\n",
        "4. Advanced exercise: Currently our CGCNN model only has a single fully-connected before the final read-out step. The performance of the model could be improved by adding multiple dense layers before the read out. Try adding these extra layers with softplus activation and see how they impact the model performance.\n",
        "\n",
        "   *Hint:* the dense layers should be added just before the `return self.fc_out(crys_feat)` line in the `CGCNN.forward` function."
      ]
    },
    {
      "cell_type": "markdown",
      "id": "db5f41b1-7f24-4b22-8617-5df1f10531e0",
      "metadata": {
        "id": "db5f41b1-7f24-4b22-8617-5df1f10531e0"
      },
      "source": [
        "## 1. Assess impact of convolutions\n",
        "\n",
        "Create a function to initialise a model and get the final accuracy.\n"
      ]
    },
    {
      "cell_type": "code",
      "execution_count": null,
      "id": "545420f8-cf71-4b9f-9506-f4dafbcd196b",
      "metadata": {
        "id": "545420f8-cf71-4b9f-9506-f4dafbcd196b"
      },
      "outputs": [],
      "source": [
        "def get_loss(num_convolutions=3, node_hidden_dim=64):\n",
        "    \"\"\"Train and evaluate a CGCNN model.\"\"\"\n",
        "\n",
        "    model = CGCNN(\n",
        "        NUM_NODE_FEATURES,\n",
        "        NUM_EDGE_FEATURES,\n",
        "        num_graph_conv_layers=num_convolutions,\n",
        "        node_hidden_dim=node_hidden_dim,\n",
        "    )\n",
        "\n",
        "    optimizer = torch.optim.AdamW(model.parameters())\n",
        "    criterion = nn.MSELoss()\n",
        "\n",
        "    model = model.to(device)\n",
        "    criterion = criterion.to(device)\n",
        "\n",
        "    best_valid_loss = float('inf')\n",
        "    model_name = f\"elastic-model-num-conv={num_convolutions}-node-hidden={node_hidden_dim}.pt\"\n",
        "\n",
        "    for epoch in range(EPOCHS):\n",
        "\n",
        "        train_loss, train_mae = train(model, train_loader, criterion, optimizer, device)\n",
        "        valid_loss, valid_mae = evaluate(model, valid_loader, criterion, device)\n",
        "\n",
        "        if valid_loss < best_valid_loss:\n",
        "            best_valid_loss = valid_loss\n",
        "            torch.save(model.state_dict(), model_name)\n",
        "\n",
        "    model.load_state_dict(torch.load(model_name))\n",
        "    test_loss, test_mae = evaluate(model, test_loader, criterion, device)\n",
        "    return test_mae"
      ]
    },
    {
      "cell_type": "markdown",
      "id": "cfff74a9-737d-4a81-acbb-d1c89260b6ef",
      "metadata": {
        "id": "cfff74a9-737d-4a81-acbb-d1c89260b6ef"
      },
      "source": [
        "Calculate the loss for 1, 2, 3, and 4 convolutional layers."
      ]
    },
    {
      "cell_type": "code",
      "execution_count": null,
      "id": "9acc5c8e-6299-4c92-a62b-7d1a82624edd",
      "metadata": {
        "id": "9acc5c8e-6299-4c92-a62b-7d1a82624edd"
      },
      "outputs": [],
      "source": []
    },
    {
      "cell_type": "markdown",
      "id": "fa431850-11df-40d6-ac1a-d61c8f1b4351",
      "metadata": {
        "id": "fa431850-11df-40d6-ac1a-d61c8f1b4351"
      },
      "source": [
        "Plot the results."
      ]
    },
    {
      "cell_type": "code",
      "execution_count": null,
      "id": "281576c0-5b8e-4e88-9b04-dd2e82de6cc5",
      "metadata": {
        "id": "281576c0-5b8e-4e88-9b04-dd2e82de6cc5"
      },
      "outputs": [],
      "source": []
    },
    {
      "cell_type": "markdown",
      "id": "60ce84d9-726b-48db-b664-545bed2d1084",
      "metadata": {
        "id": "60ce84d9-726b-48db-b664-545bed2d1084"
      },
      "source": [
        "## 2. Assess impact of embedding size\n",
        "\n",
        "Calculate the loss for an embedding dimension of 16, 32, 64, 128, 256"
      ]
    },
    {
      "cell_type": "code",
      "execution_count": null,
      "id": "7ff85d3c-0520-4fb9-bf83-2c51041f02bd",
      "metadata": {
        "id": "7ff85d3c-0520-4fb9-bf83-2c51041f02bd"
      },
      "outputs": [],
      "source": []
    },
    {
      "cell_type": "markdown",
      "id": "d067c929-00d0-494d-aee1-511fdc203594",
      "metadata": {
        "id": "d067c929-00d0-494d-aee1-511fdc203594"
      },
      "source": [
        "Plot the results."
      ]
    },
    {
      "cell_type": "code",
      "execution_count": null,
      "id": "d2c5064c-b0f4-4b5f-b073-e20b96cd6e4a",
      "metadata": {
        "id": "d2c5064c-b0f4-4b5f-b073-e20b96cd6e4a"
      },
      "outputs": [],
      "source": []
    },
    {
      "cell_type": "markdown",
      "id": "0784f170-9c38-401b-b205-bdd2c6d800f0",
      "metadata": {
        "id": "0784f170-9c38-401b-b205-bdd2c6d800f0"
      },
      "source": [
        "## 4. Adding additional fully-connected layers\n",
        "\n",
        "Below we have copied the `CGCNN` class and added some additional hidden layers. We have added comments in the code where the additions were made."
      ]
    },
    {
      "cell_type": "code",
      "execution_count": null,
      "id": "c45231fc-fdaa-469c-b359-3793e70f9ac8",
      "metadata": {
        "id": "c45231fc-fdaa-469c-b359-3793e70f9ac8"
      },
      "outputs": [],
      "source": [
        "class CGCNN(nn.Module):\n",
        "    def __init__(\n",
        "        self,\n",
        "        node_feat_dim,\n",
        "        edge_feat_dim,\n",
        "        node_hidden_dim=64,\n",
        "        num_graph_conv_layers=3,\n",
        "        num_fully_connected_layers=2,  # parameter to control the number of FC layers\n",
        "        fc_feat_dim=128\n",
        "    ):\n",
        "        super().__init__()\n",
        "        self.embedding = nn.Linear(node_feat_dim, node_hidden_dim)\n",
        "        convs = []\n",
        "        for _ in range(num_graph_conv_layers):\n",
        "            convs.append(GraphConvolution(node_feat_dim=node_hidden_dim, edge_feat_dim=edge_feat_dim))\n",
        "        self.convs = nn.ModuleList(convs)\n",
        "        self.conv_to_fc = nn.Sequential(\n",
        "           nn.Linear(node_hidden_dim, fc_feat_dim), nn.Softplus()\n",
        "        )\n",
        "\n",
        "        # Add the additional fully connected layers\n",
        "        if num_fully_connected_layers > 0:\n",
        "            fc_layers = []\n",
        "            for _ in range(num_fully_connected_layers):\n",
        "                fc_layers.append(nn.Linear(fc_feat_dim, fc_feat_dim))\n",
        "                fc_layers.append(nn.Softplus())\n",
        "            self.fc_layers = nn.Sequential(*fc_layers)\n",
        "        else:\n",
        "            self.fc_layers = None\n",
        "\n",
        "        self.fc_out = nn.Linear(fc_feat_dim, 1)\n",
        "\n",
        "    def forward(self, batch):\n",
        "        \"\"\"\n",
        "        Predict the target property given a batch of data.\n",
        "\n",
        "        Parameters\n",
        "        ----------\n",
        "        batch : Batch\n",
        "            The data to pass through the network.\n",
        "        \"\"\"\n",
        "        node_feat = self.embedding(batch.node_feat)\n",
        "        for conv_func in self.convs:\n",
        "            node_feat = conv_func(node_feat, batch.edge_feat, batch.edge_src, batch.edge_dst)\n",
        "        crys_feat = torch_scatter.scatter_mean(node_feat, batch.batch, dim=0)\n",
        "        crys_feat = self.conv_to_fc(crys_feat)\n",
        "\n",
        "        # Run the crystal features through the fully connected layers\n",
        "        if self.fc_layers:\n",
        "            crys_feat = self.fc_layers(crys_feat)\n",
        "\n",
        "        return self.fc_out(crys_feat)"
      ]
    },
    {
      "cell_type": "markdown",
      "id": "ba5d4301-6b04-4166-9dc2-acbdc598cdc7",
      "metadata": {
        "id": "ba5d4301-6b04-4166-9dc2-acbdc598cdc7"
      },
      "source": [
        "Now create a function to calculate the loss with the different number of fully-connected layers."
      ]
    },
    {
      "cell_type": "code",
      "execution_count": null,
      "id": "4b6b862d-57ec-4460-b411-c2904dd31302",
      "metadata": {
        "id": "4b6b862d-57ec-4460-b411-c2904dd31302"
      },
      "outputs": [],
      "source": [
        "def get_loss(num_fully_connected_layers=1):\n",
        "    \"\"\"Train and evaluate a CGCNN model.\"\"\"\n",
        "\n",
        "    model = CGCNN(\n",
        "        NUM_NODE_FEATURES,\n",
        "        NUM_EDGE_FEATURES,\n",
        "        num_fully_connected_layers=num_fully_connected_layers\n",
        "    )\n",
        "\n",
        "    optimizer = torch.optim.AdamW(model.parameters())\n",
        "    criterion = nn.MSELoss()\n",
        "\n",
        "    model = model.to(device)\n",
        "    criterion = criterion.to(device)\n",
        "\n",
        "    best_valid_loss = float('inf')\n",
        "    model_name = f\"elastic-model-num-fc={num_fully_connected_layers}.pt\"\n",
        "\n",
        "    for epoch in range(EPOCHS):\n",
        "\n",
        "        train_loss, train_mae = train(model, train_loader, criterion, optimizer, device)\n",
        "        valid_loss, valid_mae = evaluate(model, valid_loader, criterion, device)\n",
        "\n",
        "        if valid_loss < best_valid_loss:\n",
        "            best_valid_loss = valid_loss\n",
        "            torch.save(model.state_dict(), model_name)\n",
        "\n",
        "    model.load_state_dict(torch.load(model_name))\n",
        "    test_loss, test_mae = evaluate(model, test_loader, criterion, device)\n",
        "    return test_mae"
      ]
    },
    {
      "cell_type": "markdown",
      "id": "153f5481-cd1b-4c93-b1d2-0d372a2fa560",
      "metadata": {
        "id": "153f5481-cd1b-4c93-b1d2-0d372a2fa560"
      },
      "source": [
        "Calculate the loss for 0, 1, 2, 3, and 4 fully-connected layers."
      ]
    },
    {
      "cell_type": "code",
      "execution_count": null,
      "id": "88f1aebb-303e-4ade-8494-dabea71e3a38",
      "metadata": {
        "id": "88f1aebb-303e-4ade-8494-dabea71e3a38"
      },
      "outputs": [],
      "source": []
    },
    {
      "cell_type": "markdown",
      "id": "badf177b-fa71-4bb4-ab38-12c29c078fb6",
      "metadata": {
        "id": "badf177b-fa71-4bb4-ab38-12c29c078fb6"
      },
      "source": [
        "Plot the results."
      ]
    },
    {
      "cell_type": "code",
      "execution_count": null,
      "id": "a4a14bf7-ee92-4277-9a3e-66bde5d9dce1",
      "metadata": {
        "id": "a4a14bf7-ee92-4277-9a3e-66bde5d9dce1"
      },
      "outputs": [],
      "source": []
    }
  ],
  "metadata": {
    "colab": {
      "provenance": [],
      "gpuType": "T4",
      "include_colab_link": true
    },
    "kernelspec": {
      "display_name": "Python 3",
      "name": "python3"
    },
    "language_info": {
      "codemirror_mode": {
        "name": "ipython",
        "version": 3
      },
      "file_extension": ".py",
      "mimetype": "text/x-python",
      "name": "python",
      "nbconvert_exporter": "python",
      "pygments_lexer": "ipython3",
      "version": "3.10.12"
    },
    "accelerator": "GPU"
  },
  "nbformat": 4,
  "nbformat_minor": 5
}